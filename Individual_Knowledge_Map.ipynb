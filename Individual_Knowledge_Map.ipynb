{
 "cells": [
  {
   "cell_type": "code",
   "execution_count": 13,
   "id": "82fed2cf",
   "metadata": {
    "tags": []
   },
   "outputs": [],
   "source": [
    "from pyvis.network import Network\n",
    "import pandas as pd"
   ]
  },
  {
   "cell_type": "code",
   "execution_count": 14,
   "id": "09bbe030",
   "metadata": {
    "tags": []
   },
   "outputs": [],
   "source": [
    "week_keyword = pd.read_excel(\"week_keyword_table_s01_2021.xlsx\",index_col=0,engine='openpyxl')\n",
    "keyword_category = pd.read_excel(\"keyword_category_table.xlsx\",index_col=0,engine='openpyxl')"
   ]
  },
  {
   "cell_type": "code",
   "execution_count": 15,
   "id": "30844191",
   "metadata": {},
   "outputs": [
    {
     "name": "stdout",
     "output_type": "stream",
     "text": [
      "   lasercut  3dprint  woodtool  design  debug  trial  help  2ddesign  measure  \\\n",
      "1         1        1         0       0      1      1     0         0        0   \n",
      "2         0        0         1       1      1      0     0         0        0   \n",
      "3         1        0         1       0      1      1     0         1        1   \n",
      "\n",
      "   angle  shape   material  battery  power  \n",
      "1      0       0         0        0      0  \n",
      "2      0       1         1        1      1  \n",
      "3      1       1         1        0      1  \n",
      "          category\n",
      "lasercut         1\n",
      "3dprint          2\n",
      "woodtool         3\n",
      "design           1\n",
      "debug            4\n",
      "trial            4\n",
      "help             4\n",
      "2ddesign         1\n",
      "measure          2\n",
      "angle            4\n",
      "shape            4\n",
      "material         4\n",
      "battery          5\n",
      "power            5\n"
     ]
    }
   ],
   "source": [
    "print(week_keyword)\n",
    "print(keyword_category)"
   ]
  },
  {
   "cell_type": "code",
   "execution_count": 16,
   "id": "d61ed928",
   "metadata": {},
   "outputs": [
    {
     "name": "stdout",
     "output_type": "stream",
     "text": [
      "['lasercut', '3dprint', 'woodtool', 'design', 'debug', 'trial', 'help', '2ddesign', 'measure', 'angle', 'shape ', 'material', 'battery', 'power']\n"
     ]
    }
   ],
   "source": [
    "keywords = list(week_keyword.head())\n",
    "print(keywords)"
   ]
  },
  {
   "cell_type": "code",
   "execution_count": 17,
   "id": "d4186989",
   "metadata": {},
   "outputs": [
    {
     "name": "stdout",
     "output_type": "stream",
     "text": [
      "[1 2 3 1 4 4 4 1 2 4 4 4 5 5]\n"
     ]
    }
   ],
   "source": [
    "# the number shows which category the keyword belongs to\n",
    "keywords_group = keyword_category.iloc[:, 0].to_numpy()\n",
    "print(keywords_group)"
   ]
  },
  {
   "cell_type": "code",
   "execution_count": 18,
   "id": "f7855c64",
   "metadata": {},
   "outputs": [
    {
     "name": "stdout",
     "output_type": "stream",
     "text": [
      "[1 1 0 0 1 1 0 0 0 0 0 0 0 0]\n",
      "[0 0 1 1 1 0 0 0 0 0 1 1 1 1]\n",
      "[1 0 1 0 1 1 0 1 1 1 1 1 0 1]\n"
     ]
    }
   ],
   "source": [
    "# extract each week's keyword list\n",
    "week1 = week_keyword.iloc[0].to_numpy()\n",
    "week2 = week_keyword.iloc[1].to_numpy()\n",
    "week3 = week_keyword.iloc[2].to_numpy()\n",
    "print(week1)\n",
    "print(week2)\n",
    "print(week3)"
   ]
  },
  {
   "cell_type": "code",
   "execution_count": 26,
   "id": "ffd85749",
   "metadata": {},
   "outputs": [
    {
     "name": "stdout",
     "output_type": "stream",
     "text": [
      "['#DEEBF7', '#9ECAE1', '#3182BD']\n"
     ]
    },
    {
     "data": {
      "text/plain": [
       "'#DEEBF7'"
      ]
     },
     "execution_count": 26,
     "metadata": {},
     "output_type": "execute_result"
    }
   ],
   "source": [
    "# create gradient color for each week's nodes\n",
    "from palettable.colorbrewer.sequential import Blues_3\n",
    "palette = Blues_3.hex_colors\n",
    "print(palette)\n",
    "palette[0]"
   ]
  },
  {
   "cell_type": "code",
   "execution_count": 29,
   "id": "0fd770b0",
   "metadata": {},
   "outputs": [
    {
     "name": "stdout",
     "output_type": "stream",
     "text": [
      "[0, 1, 4, 5]\n",
      "social_network.html\n"
     ]
    },
    {
     "data": {
      "text/html": [
       "\n",
       "        <iframe\n",
       "            width=\"100%\"\n",
       "            height=\"600px\"\n",
       "            src=\"social_network.html\"\n",
       "            frameborder=\"0\"\n",
       "            allowfullscreen\n",
       "            \n",
       "        ></iframe>\n",
       "        "
      ],
      "text/plain": [
       "<IPython.lib.display.IFrame at 0x7fd650a35518>"
      ]
     },
     "execution_count": 29,
     "metadata": {},
     "output_type": "execute_result"
    }
   ],
   "source": [
    "net1 = Network(notebook=True, heading=\"Individual Knowledge Map Week 1\",cdn_resources = 'remote')\n",
    "\n",
    "# cacluates the number of occurences for each keywork for week 1\n",
    "occurence_week1 = week_keyword.iloc[:1].sum()\n",
    "    \n",
    "for i, value in enumerate(week1):\n",
    "    if value == 1:\n",
    "        net1.add_node(i, label=keywords[i], title='Week1',size=(int(occurence_week1[i])+1)*3, color=palette[0])\n",
    "\n",
    "# show the all node ids we have in the net\n",
    "net1_id = [dic['id'] for dic in net1.nodes]\n",
    "print(net1_id)\n",
    "\n",
    "for i in net1_id:\n",
    "    for j in net1_id:\n",
    "        if i != j and keywords_group[i] == keywords_group[j]:\n",
    "            net1.add_edge(i,j)\n",
    "            \n",
    "#Network.set_options()\n",
    "net1.show_buttons(filter_=['buttons'])              \n",
    "net1.show(\"social_network.html\")\n"
   ]
  },
  {
   "cell_type": "code",
   "execution_count": 24,
   "id": "1c091847",
   "metadata": {},
   "outputs": [
    {
     "name": "stdout",
     "output_type": "stream",
     "text": [
      "[0, 1, 4, 5, 2, 3, 10, 11, 12, 13]\n",
      "social_network.html\n"
     ]
    },
    {
     "data": {
      "text/html": [
       "\n",
       "        <iframe\n",
       "            width=\"100%\"\n",
       "            height=\"600px\"\n",
       "            src=\"social_network.html\"\n",
       "            frameborder=\"0\"\n",
       "            allowfullscreen\n",
       "            \n",
       "        ></iframe>\n",
       "        "
      ],
      "text/plain": [
       "<IPython.lib.display.IFrame at 0x7fd61092fe48>"
      ]
     },
     "execution_count": 24,
     "metadata": {},
     "output_type": "execute_result"
    }
   ],
   "source": [
    "net2 = Network(notebook=True, heading=\"Individual Knowledge Map Week 2\", filter_menu=True,cdn_resources = 'remote')\n",
    "\n",
    "# cacluates the number of occurences for each keywork for week 1 & week2 in total\n",
    "occurence_week2 = week_keyword.iloc[:2].sum()\n",
    "    \n",
    "for i, value in  enumerate(week1):\n",
    "    if value == 1:\n",
    "        net2.add_node(i, label=keywords[i], title='Week1', size=(int(occurence_week2[i])+1)*3, color=palette[0])\n",
    "\n",
    "for i, value in  enumerate(week2):\n",
    "    if value == 1:\n",
    "        net2.add_node(i, label=keywords[i], title='Week2', size=(int(occurence_week2[i])+1)*3, color=palette[1])\n",
    "\n",
    "# show the all node ids we have in the net\n",
    "net2_id = [dic['id'] for dic in net2.nodes]\n",
    "print(net2_id)\n",
    "\n",
    "for i in net2_id:\n",
    "    for j in net2_id:\n",
    "        if i != j and keywords_group[i] == keywords_group[j]:\n",
    "            net2.add_edge(i,j)\n",
    "                         \n",
    "net2.show(\"social_network.html\")"
   ]
  },
  {
   "cell_type": "code",
   "execution_count": 10,
   "id": "cc9b3f0e",
   "metadata": {},
   "outputs": [
    {
     "name": "stdout",
     "output_type": "stream",
     "text": [
      "[0, 1, 4, 5, 2, 3, 10, 11, 12, 13, 7, 8, 9]\n",
      "social_network.html\n"
     ]
    },
    {
     "data": {
      "text/html": [
       "\n",
       "        <iframe\n",
       "            width=\"100%\"\n",
       "            height=\"600px\"\n",
       "            src=\"social_network.html\"\n",
       "            frameborder=\"0\"\n",
       "            allowfullscreen\n",
       "            \n",
       "        ></iframe>\n",
       "        "
      ],
      "text/plain": [
       "<IPython.lib.display.IFrame at 0x7fa0b15e9550>"
      ]
     },
     "execution_count": 10,
     "metadata": {},
     "output_type": "execute_result"
    }
   ],
   "source": [
    "net3 = Network(notebook=True, heading=\"Individual Knowledge Map Week 3\", filter_menu=True,cdn_resources = 'remote')\n",
    "\n",
    "# cacluates the number of occurences for each keywork for week 1 & week2 & week3 in total\n",
    "occurence_week3 = week_keyword.iloc[:2].sum()\n",
    "    \n",
    "for i, value in  enumerate(week1):\n",
    "    if value == 1:\n",
    "        net3.add_node(i, label=keywords[i], title='Week1',size=(int(occurence_week3[i])+1)*3,color=palette[0])\n",
    "\n",
    "for i, value in  enumerate(week2):\n",
    "    if value == 1:\n",
    "        net3.add_node(i, label=keywords[i], title='Week2',size=(int(occurence_week3[i])+1)*3,color=palette[1])\n",
    "        \n",
    "for i, value in  enumerate(week3):\n",
    "    if value == 1:\n",
    "        net3.add_node(i, label=keywords[i], title='Week3',size=(int(occurence_week3[i])+1)*3,color=palette[2])\n",
    "\n",
    "# show the all node ids we have in the net\n",
    "net3_id = [dic['id'] for dic in net3.nodes]\n",
    "print(net3_id)\n",
    "\n",
    "for i in net3_id:\n",
    "    for j in net3_id:\n",
    "        if i != j and keywords_group[i] == keywords_group[j]:\n",
    "            net3.add_edge(i,j)\n",
    "               \n",
    "net3.show(\"social_network.html\")"
   ]
  },
  {
   "cell_type": "code",
   "execution_count": null,
   "id": "5e256d2e",
   "metadata": {},
   "outputs": [],
   "source": []
  },
  {
   "cell_type": "code",
   "execution_count": null,
   "id": "e659c19e",
   "metadata": {},
   "outputs": [],
   "source": []
  }
 ],
 "metadata": {
  "kernelspec": {
   "display_name": "Python 3 (ipykernel)",
   "language": "python",
   "name": "python3"
  },
  "language_info": {
   "codemirror_mode": {
    "name": "ipython",
    "version": 3
   },
   "file_extension": ".py",
   "mimetype": "text/x-python",
   "name": "python",
   "nbconvert_exporter": "python",
   "pygments_lexer": "ipython3",
   "version": "3.7.0"
  }
 },
 "nbformat": 4,
 "nbformat_minor": 5
}

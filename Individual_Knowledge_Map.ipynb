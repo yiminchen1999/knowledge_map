{
  "cells": [
    {
      "cell_type": "markdown",
      "metadata": {
        "id": "view-in-github",
        "colab_type": "text"
      },
      "source": [
        "<a href=\"https://colab.research.google.com/github/yiminchen1999/knowledge_map/blob/main/Individual_Knowledge_Map.ipynb\" target=\"_parent\"><img src=\"https://colab.research.google.com/assets/colab-badge.svg\" alt=\"Open In Colab\"/></a>"
      ]
    },
    {
      "cell_type": "code",
      "source": [
        "!pip install pyvis"
      ],
      "metadata": {
        "colab": {
          "base_uri": "https://localhost:8080/"
        },
        "id": "UB2KjdyJTeQj",
        "outputId": "77f2406d-2f31-48f3-9198-e83038176031"
      },
      "id": "UB2KjdyJTeQj",
      "execution_count": null,
      "outputs": [
        {
          "output_type": "stream",
          "name": "stdout",
          "text": [
            "Looking in indexes: https://pypi.org/simple, https://us-python.pkg.dev/colab-wheels/public/simple/\n",
            "Requirement already satisfied: pyvis in /usr/local/lib/python3.8/dist-packages (0.3.2)\n",
            "Requirement already satisfied: ipython>=5.3.0 in /usr/local/lib/python3.8/dist-packages (from pyvis) (7.9.0)\n",
            "Requirement already satisfied: networkx>=1.11 in /usr/local/lib/python3.8/dist-packages (from pyvis) (3.0)\n",
            "Requirement already satisfied: jinja2>=2.9.6 in /usr/local/lib/python3.8/dist-packages (from pyvis) (3.1.2)\n",
            "Requirement already satisfied: jsonpickle>=1.4.1 in /usr/local/lib/python3.8/dist-packages (from pyvis) (3.0.1)\n",
            "Requirement already satisfied: decorator in /usr/local/lib/python3.8/dist-packages (from ipython>=5.3.0->pyvis) (4.4.2)\n",
            "Requirement already satisfied: setuptools>=18.5 in /usr/local/lib/python3.8/dist-packages (from ipython>=5.3.0->pyvis) (57.4.0)\n",
            "Requirement already satisfied: prompt-toolkit<2.1.0,>=2.0.0 in /usr/local/lib/python3.8/dist-packages (from ipython>=5.3.0->pyvis) (2.0.10)\n",
            "Requirement already satisfied: pygments in /usr/local/lib/python3.8/dist-packages (from ipython>=5.3.0->pyvis) (2.6.1)\n",
            "Requirement already satisfied: backcall in /usr/local/lib/python3.8/dist-packages (from ipython>=5.3.0->pyvis) (0.2.0)\n",
            "Requirement already satisfied: jedi>=0.10 in /usr/local/lib/python3.8/dist-packages (from ipython>=5.3.0->pyvis) (0.18.2)\n",
            "Requirement already satisfied: traitlets>=4.2 in /usr/local/lib/python3.8/dist-packages (from ipython>=5.3.0->pyvis) (5.7.1)\n",
            "Requirement already satisfied: pickleshare in /usr/local/lib/python3.8/dist-packages (from ipython>=5.3.0->pyvis) (0.7.5)\n",
            "Requirement already satisfied: pexpect in /usr/local/lib/python3.8/dist-packages (from ipython>=5.3.0->pyvis) (4.8.0)\n",
            "Requirement already satisfied: MarkupSafe>=2.0 in /usr/local/lib/python3.8/dist-packages (from jinja2>=2.9.6->pyvis) (2.1.2)\n",
            "Requirement already satisfied: parso<0.9.0,>=0.8.0 in /usr/local/lib/python3.8/dist-packages (from jedi>=0.10->ipython>=5.3.0->pyvis) (0.8.3)\n",
            "Requirement already satisfied: six>=1.9.0 in /usr/local/lib/python3.8/dist-packages (from prompt-toolkit<2.1.0,>=2.0.0->ipython>=5.3.0->pyvis) (1.15.0)\n",
            "Requirement already satisfied: wcwidth in /usr/local/lib/python3.8/dist-packages (from prompt-toolkit<2.1.0,>=2.0.0->ipython>=5.3.0->pyvis) (0.2.6)\n",
            "Requirement already satisfied: ptyprocess>=0.5 in /usr/local/lib/python3.8/dist-packages (from pexpect->ipython>=5.3.0->pyvis) (0.7.0)\n"
          ]
        }
      ]
    },
    {
      "cell_type": "code",
      "source": [],
      "metadata": {
        "id": "bRPunxKHTeHU"
      },
      "id": "bRPunxKHTeHU",
      "execution_count": null,
      "outputs": []
    },
    {
      "cell_type": "code",
      "execution_count": null,
      "id": "82fed2cf",
      "metadata": {
        "tags": [],
        "id": "82fed2cf"
      },
      "outputs": [],
      "source": [
        "from pyvis.network import Network\n",
        "import pandas as pd"
      ]
    },
    {
      "cell_type": "code",
      "execution_count": null,
      "id": "09bbe030",
      "metadata": {
        "tags": [],
        "id": "09bbe030"
      },
      "outputs": [],
      "source": [
        "week_keyword = pd.read_excel(\"/week_keyword_table_s01_2021.xlsx\",index_col=0,engine='openpyxl')\n",
        "keyword_category = pd.read_excel(\"/keyword_category_table.xlsx\",index_col=0,engine='openpyxl')"
      ]
    },
    {
      "cell_type": "markdown",
      "source": [
        "# New Section"
      ],
      "metadata": {
        "id": "ZvbXXzEhTkeM"
      },
      "id": "ZvbXXzEhTkeM"
    },
    {
      "cell_type": "code",
      "execution_count": null,
      "id": "30844191",
      "metadata": {
        "colab": {
          "base_uri": "https://localhost:8080/"
        },
        "id": "30844191",
        "outputId": "bd63efb1-9a42-4d3b-a437-f68c34d13cb6"
      },
      "outputs": [
        {
          "output_type": "stream",
          "name": "stdout",
          "text": [
            "     lasercut  3dprint  woodtool  design  debug  trial  help  2ddesign  \\\n",
            "1.0       1.0      1.0       0.0     0.0    1.0    1.0   0.0       0.0   \n",
            "2.0       0.0      0.0       1.0     1.0    1.0    0.0   0.0       0.0   \n",
            "3.0       1.0      0.0       1.0     0.0    1.0    1.0   0.0       1.0   \n",
            "\n",
            "     measure  angle  shape   material  battery  power  \n",
            "1.0      0.0    0.0     0.0       0.0      0.0    0.0  \n",
            "2.0      0.0    0.0     1.0       1.0      1.0    1.0  \n",
            "3.0      1.0    1.0     1.0       1.0      0.0    1.0  \n",
            "          category\n",
            "lasercut       1.0\n",
            "3dprint        2.0\n",
            "woodtool       3.0\n",
            "design         1.0\n",
            "debug          4.0\n",
            "trial          4.0\n",
            "help           4.0\n",
            "2ddesign       1.0\n",
            "measure        2.0\n",
            "angle          4.0\n",
            "shape          4.0\n",
            "material       4.0\n",
            "battery        5.0\n",
            "power          5.0\n"
          ]
        }
      ],
      "source": [
        "print(week_keyword)\n",
        "print(keyword_category)"
      ]
    },
    {
      "cell_type": "code",
      "execution_count": null,
      "id": "d61ed928",
      "metadata": {
        "colab": {
          "base_uri": "https://localhost:8080/"
        },
        "id": "d61ed928",
        "outputId": "34245184-e943-4884-a85e-26bc76fc38c5"
      },
      "outputs": [
        {
          "output_type": "stream",
          "name": "stdout",
          "text": [
            "['lasercut', '3dprint', 'woodtool', 'design', 'debug', 'trial', 'help', '2ddesign', 'measure', 'angle', 'shape ', 'material', 'battery', 'power']\n"
          ]
        }
      ],
      "source": [
        "keywords = list(week_keyword.head())\n",
        "print(keywords)"
      ]
    },
    {
      "cell_type": "code",
      "execution_count": null,
      "id": "d4186989",
      "metadata": {
        "colab": {
          "base_uri": "https://localhost:8080/"
        },
        "id": "d4186989",
        "outputId": "69f50707-cbcd-4927-a5d1-8b27f516d446"
      },
      "outputs": [
        {
          "output_type": "stream",
          "name": "stdout",
          "text": [
            "[1. 2. 3. 1. 4. 4. 4. 1. 2. 4. 4. 4. 5. 5.]\n"
          ]
        }
      ],
      "source": [
        "# the number shows which category the keyword belongs to\n",
        "keywords_group = keyword_category.iloc[:, 0].to_numpy()\n",
        "print(keywords_group)"
      ]
    },
    {
      "cell_type": "code",
      "execution_count": null,
      "id": "f7855c64",
      "metadata": {
        "colab": {
          "base_uri": "https://localhost:8080/"
        },
        "id": "f7855c64",
        "outputId": "0d731dce-49f2-45e4-ba29-662b6ca63b6b"
      },
      "outputs": [
        {
          "output_type": "stream",
          "name": "stdout",
          "text": [
            "[1. 1. 0. 0. 1. 1. 0. 0. 0. 0. 0. 0. 0. 0.]\n",
            "[0. 0. 1. 1. 1. 0. 0. 0. 0. 0. 1. 1. 1. 1.]\n",
            "[1. 0. 1. 0. 1. 1. 0. 1. 1. 1. 1. 1. 0. 1.]\n"
          ]
        }
      ],
      "source": [
        "# extract each week's keyword list\n",
        "week1 = week_keyword.iloc[0].to_numpy()\n",
        "week2 = week_keyword.iloc[1].to_numpy()\n",
        "week3 = week_keyword.iloc[2].to_numpy()\n",
        "print(week1)\n",
        "print(week2)\n",
        "print(week3)"
      ]
    },
    {
      "cell_type": "code",
      "execution_count": null,
      "id": "ffd85749",
      "metadata": {
        "colab": {
          "base_uri": "https://localhost:8080/",
          "height": 53
        },
        "id": "ffd85749",
        "outputId": "b295e22c-101b-4a76-b701-13fe3d1caaed"
      },
      "outputs": [
        {
          "output_type": "stream",
          "name": "stdout",
          "text": [
            "['#DEEBF7', '#9ECAE1', '#3182BD']\n"
          ]
        },
        {
          "output_type": "execute_result",
          "data": {
            "text/plain": [
              "'#DEEBF7'"
            ],
            "application/vnd.google.colaboratory.intrinsic+json": {
              "type": "string"
            }
          },
          "metadata": {},
          "execution_count": 12
        }
      ],
      "source": [
        "# create gradient color for each week's nodes\n",
        "from palettable.colorbrewer.sequential import Blues_3\n",
        "palette = Blues_3.hex_colors\n",
        "print(palette)\n",
        "palette[0]"
      ]
    },
    {
      "cell_type": "code",
      "execution_count": null,
      "id": "0fd770b0",
      "metadata": {
        "colab": {
          "base_uri": "https://localhost:8080/",
          "height": 850
        },
        "id": "0fd770b0",
        "outputId": "25527b76-9ef7-4b80-dbec-0c7bf909ca43"
      },
      "outputs": [
        {
          "output_type": "stream",
          "name": "stdout",
          "text": [
            "[0, 1, 4, 5]\n",
            "social_network.html\n"
          ]
        },
        {
          "output_type": "display_data",
          "data": {
            "text/plain": [
              "<IPython.core.display.HTML object>"
            ],
            "text/html": [
              "<html>\n",
              "    <head>\n",
              "        <meta charset=\"utf-8\">\n",
              "        \n",
              "            <script>function neighbourhoodHighlight(params) {\n",
              "  // console.log(\"in nieghbourhoodhighlight\");\n",
              "  allNodes = nodes.get({ returnType: \"Object\" });\n",
              "  // originalNodes = JSON.parse(JSON.stringify(allNodes));\n",
              "  // if something is selected:\n",
              "  if (params.nodes.length > 0) {\n",
              "    highlightActive = true;\n",
              "    var i, j;\n",
              "    var selectedNode = params.nodes[0];\n",
              "    var degrees = 2;\n",
              "\n",
              "    // mark all nodes as hard to read.\n",
              "    for (let nodeId in allNodes) {\n",
              "      // nodeColors[nodeId] = allNodes[nodeId].color;\n",
              "      allNodes[nodeId].color = \"rgba(200,200,200,0.5)\";\n",
              "      if (allNodes[nodeId].hiddenLabel === undefined) {\n",
              "        allNodes[nodeId].hiddenLabel = allNodes[nodeId].label;\n",
              "        allNodes[nodeId].label = undefined;\n",
              "      }\n",
              "    }\n",
              "    var connectedNodes = network.getConnectedNodes(selectedNode);\n",
              "    var allConnectedNodes = [];\n",
              "\n",
              "    // get the second degree nodes\n",
              "    for (i = 1; i < degrees; i++) {\n",
              "      for (j = 0; j < connectedNodes.length; j++) {\n",
              "        allConnectedNodes = allConnectedNodes.concat(\n",
              "          network.getConnectedNodes(connectedNodes[j])\n",
              "        );\n",
              "      }\n",
              "    }\n",
              "\n",
              "    // all second degree nodes get a different color and their label back\n",
              "    for (i = 0; i < allConnectedNodes.length; i++) {\n",
              "      // allNodes[allConnectedNodes[i]].color = \"pink\";\n",
              "      allNodes[allConnectedNodes[i]].color = \"rgba(150,150,150,0.75)\";\n",
              "      if (allNodes[allConnectedNodes[i]].hiddenLabel !== undefined) {\n",
              "        allNodes[allConnectedNodes[i]].label =\n",
              "          allNodes[allConnectedNodes[i]].hiddenLabel;\n",
              "        allNodes[allConnectedNodes[i]].hiddenLabel = undefined;\n",
              "      }\n",
              "    }\n",
              "\n",
              "    // all first degree nodes get their own color and their label back\n",
              "    for (i = 0; i < connectedNodes.length; i++) {\n",
              "      // allNodes[connectedNodes[i]].color = undefined;\n",
              "      allNodes[connectedNodes[i]].color = nodeColors[connectedNodes[i]];\n",
              "      if (allNodes[connectedNodes[i]].hiddenLabel !== undefined) {\n",
              "        allNodes[connectedNodes[i]].label =\n",
              "          allNodes[connectedNodes[i]].hiddenLabel;\n",
              "        allNodes[connectedNodes[i]].hiddenLabel = undefined;\n",
              "      }\n",
              "    }\n",
              "\n",
              "    // the main node gets its own color and its label back.\n",
              "    // allNodes[selectedNode].color = undefined;\n",
              "    allNodes[selectedNode].color = nodeColors[selectedNode];\n",
              "    if (allNodes[selectedNode].hiddenLabel !== undefined) {\n",
              "      allNodes[selectedNode].label = allNodes[selectedNode].hiddenLabel;\n",
              "      allNodes[selectedNode].hiddenLabel = undefined;\n",
              "    }\n",
              "  } else if (highlightActive === true) {\n",
              "    // console.log(\"highlightActive was true\");\n",
              "    // reset all nodes\n",
              "    for (let nodeId in allNodes) {\n",
              "      // allNodes[nodeId].color = \"purple\";\n",
              "      allNodes[nodeId].color = nodeColors[nodeId];\n",
              "      // delete allNodes[nodeId].color;\n",
              "      if (allNodes[nodeId].hiddenLabel !== undefined) {\n",
              "        allNodes[nodeId].label = allNodes[nodeId].hiddenLabel;\n",
              "        allNodes[nodeId].hiddenLabel = undefined;\n",
              "      }\n",
              "    }\n",
              "    highlightActive = false;\n",
              "  }\n",
              "\n",
              "  // transform the object into an array\n",
              "  var updateArray = [];\n",
              "  if (params.nodes.length > 0) {\n",
              "    for (let nodeId in allNodes) {\n",
              "      if (allNodes.hasOwnProperty(nodeId)) {\n",
              "        // console.log(allNodes[nodeId]);\n",
              "        updateArray.push(allNodes[nodeId]);\n",
              "      }\n",
              "    }\n",
              "    nodes.update(updateArray);\n",
              "  } else {\n",
              "    // console.log(\"Nothing was selected\");\n",
              "    for (let nodeId in allNodes) {\n",
              "      if (allNodes.hasOwnProperty(nodeId)) {\n",
              "        // console.log(allNodes[nodeId]);\n",
              "        // allNodes[nodeId].color = {};\n",
              "        updateArray.push(allNodes[nodeId]);\n",
              "      }\n",
              "    }\n",
              "    nodes.update(updateArray);\n",
              "  }\n",
              "}\n",
              "\n",
              "function filterHighlight(params) {\n",
              "  allNodes = nodes.get({ returnType: \"Object\" });\n",
              "  // if something is selected:\n",
              "  if (params.nodes.length > 0) {\n",
              "    filterActive = true;\n",
              "    let selectedNodes = params.nodes;\n",
              "\n",
              "    // hiding all nodes and saving the label\n",
              "    for (let nodeId in allNodes) {\n",
              "      allNodes[nodeId].hidden = true;\n",
              "      if (allNodes[nodeId].savedLabel === undefined) {\n",
              "        allNodes[nodeId].savedLabel = allNodes[nodeId].label;\n",
              "        allNodes[nodeId].label = undefined;\n",
              "      }\n",
              "    }\n",
              "\n",
              "    for (let i=0; i < selectedNodes.length; i++) {\n",
              "      allNodes[selectedNodes[i]].hidden = false;\n",
              "      if (allNodes[selectedNodes[i]].savedLabel !== undefined) {\n",
              "        allNodes[selectedNodes[i]].label = allNodes[selectedNodes[i]].savedLabel;\n",
              "        allNodes[selectedNodes[i]].savedLabel = undefined;\n",
              "      }\n",
              "    }\n",
              "\n",
              "  } else if (filterActive === true) {\n",
              "    // reset all nodes\n",
              "    for (let nodeId in allNodes) {\n",
              "      allNodes[nodeId].hidden = false;\n",
              "      if (allNodes[nodeId].savedLabel !== undefined) {\n",
              "        allNodes[nodeId].label = allNodes[nodeId].savedLabel;\n",
              "        allNodes[nodeId].savedLabel = undefined;\n",
              "      }\n",
              "    }\n",
              "    filterActive = false;\n",
              "  }\n",
              "\n",
              "  // transform the object into an array\n",
              "  var updateArray = [];\n",
              "  if (params.nodes.length > 0) {\n",
              "    for (let nodeId in allNodes) {\n",
              "      if (allNodes.hasOwnProperty(nodeId)) {\n",
              "        updateArray.push(allNodes[nodeId]);\n",
              "      }\n",
              "    }\n",
              "    nodes.update(updateArray);\n",
              "  } else {\n",
              "    for (let nodeId in allNodes) {\n",
              "      if (allNodes.hasOwnProperty(nodeId)) {\n",
              "        updateArray.push(allNodes[nodeId]);\n",
              "      }\n",
              "    }\n",
              "    nodes.update(updateArray);\n",
              "  }\n",
              "}\n",
              "\n",
              "function selectNode(nodes) {\n",
              "  network.selectNodes(nodes);\n",
              "  neighbourhoodHighlight({ nodes: nodes });\n",
              "  return nodes;\n",
              "}\n",
              "\n",
              "function selectNodes(nodes) {\n",
              "  network.selectNodes(nodes);\n",
              "  filterHighlight({nodes: nodes});\n",
              "  return nodes;\n",
              "}\n",
              "\n",
              "function highlightFilter(filter) {\n",
              "  let selectedNodes = []\n",
              "  let selectedProp = filter['property']\n",
              "  if (filter['item'] === 'node') {\n",
              "    let allNodes = nodes.get({ returnType: \"Object\" });\n",
              "    for (let nodeId in allNodes) {\n",
              "      if (allNodes[nodeId][selectedProp] && filter['value'].includes((allNodes[nodeId][selectedProp]).toString())) {\n",
              "        selectedNodes.push(nodeId)\n",
              "      }\n",
              "    }\n",
              "  }\n",
              "  else if (filter['item'] === 'edge'){\n",
              "    let allEdges = edges.get({returnType: 'object'});\n",
              "    // check if the selected property exists for selected edge and select the nodes connected to the edge\n",
              "    for (let edge in allEdges) {\n",
              "      if (allEdges[edge][selectedProp] && filter['value'].includes((allEdges[edge][selectedProp]).toString())) {\n",
              "        selectedNodes.push(allEdges[edge]['from'])\n",
              "        selectedNodes.push(allEdges[edge]['to'])\n",
              "      }\n",
              "    }\n",
              "  }\n",
              "  selectNodes(selectedNodes)\n",
              "}</script>\n",
              "            <link rel=\"stylesheet\" href=\"https://cdnjs.cloudflare.com/ajax/libs/vis-network/9.1.2/dist/dist/vis-network.min.css\" integrity=\"sha512-WgxfT5LWjfszlPHXRmBWHkV2eceiWTOBvrKCNbdgDYTHrT2AeLCGbF4sZlZw3UMN3WtL0tGUoIAKsu8mllg/XA==\" crossorigin=\"anonymous\" referrerpolicy=\"no-referrer\" />\n",
              "            <script src=\"https://cdnjs.cloudflare.com/ajax/libs/vis-network/9.1.2/dist/vis-network.min.js\" integrity=\"sha512-LnvoEWDFrqGHlHmDD2101OrLcbsfkrzoSpvtSQtxK3RMnRV0eOkhhBN2dXHKRrUU8p2DGRTk35n4O8nWSVe1mQ==\" crossorigin=\"anonymous\" referrerpolicy=\"no-referrer\"></script>\n",
              "            \n",
              "            \n",
              "            \n",
              "            \n",
              "            \n",
              "            \n",
              "                <link rel=\"stylesheet\" href=\"https://cdnjs.cloudflare.com/ajax/libs/tom-select/2.0.0-rc.4/css/tom-select.min.css\" integrity=\"sha512-43fHB3GLgZfz8QXl1RPQ8O66oIgv3po9cJ5erMt1c4QISq9dYb195T3vr5ImnJPXuVroKcGBPXBFKETW8jrPNQ==\" crossorigin=\"anonymous\" referrerpolicy=\"no-referrer\" />\n",
              "                <script src=\"https://cdnjs.cloudflare.com/ajax/libs/tom-select/2.0.0-rc.4/js/tom-select.complete.js\" integrity=\"sha512-jeF9CfnvzDiw9G9xiksVjxR2lib44Gnovvkv+3CgCG6NXCD4gqlA5nDAVW5WjpA+i+/zKsUWV5xNEbW1X/HH0Q==\" crossorigin=\"anonymous\" referrerpolicy=\"no-referrer\"></script>\n",
              "            \n",
              "\n",
              "        \n",
              "<center>\n",
              "<h1>Individual Knowledge Map Week 1</h1>\n",
              "</center>\n",
              "\n",
              "<!-- <link rel=\"stylesheet\" href=\"../node_modules/vis/dist/vis.min.css\" type=\"text/css\" />\n",
              "<script type=\"text/javascript\" src=\"../node_modules/vis/dist/vis.js\"> </script>-->\n",
              "        <link\n",
              "          href=\"https://cdn.jsdelivr.net/npm/bootstrap@5.0.0-beta3/dist/css/bootstrap.min.css\"\n",
              "          rel=\"stylesheet\"\n",
              "          integrity=\"sha384-eOJMYsd53ii+scO/bJGFsiCZc+5NDVN2yr8+0RDqr0Ql0h+rP48ckxlpbzKgwra6\"\n",
              "          crossorigin=\"anonymous\"\n",
              "        />\n",
              "        <script\n",
              "          src=\"https://cdn.jsdelivr.net/npm/bootstrap@5.0.0-beta3/dist/js/bootstrap.bundle.min.js\"\n",
              "          integrity=\"sha384-JEW9xMcG8R+pH31jmWH6WWP0WintQrMb4s7ZOdauHnUtxwoG2vI5DkLtS3qm9Ekf\"\n",
              "          crossorigin=\"anonymous\"\n",
              "        ></script>\n",
              "\n",
              "\n",
              "        <center>\n",
              "          <h1>Individual Knowledge Map Week 1</h1>\n",
              "        </center>\n",
              "        <style type=\"text/css\">\n",
              "\n",
              "             #mynetwork {\n",
              "                 width: 100%;\n",
              "                 height: 600px;\n",
              "                 background-color: #ffffff;\n",
              "                 border: 1px solid lightgray;\n",
              "                 position: relative;\n",
              "                 float: left;\n",
              "             }\n",
              "\n",
              "             \n",
              "\n",
              "             \n",
              "\n",
              "             \n",
              "        </style>\n",
              "    </head>\n",
              "\n",
              "\n",
              "    <body>\n",
              "        <div class=\"card\" style=\"width: 100%\">\n",
              "            \n",
              "            \n",
              "              <div id=\"filter-menu\" class=\"card-header\">\n",
              "                <div class=\"row no-gutters\">\n",
              "                  <div class=\"col-3 pb-2\">\n",
              "                    <select\n",
              "                            class=\"form-select\"\n",
              "                            aria-label=\"Default select example\"\n",
              "                            onchange=\"updateFilter(value, 'item')\"\n",
              "                            id=\"select-item\"\n",
              "                        >\n",
              "                        <option value=\"\">Select a network item</option>\n",
              "                        <option value=\"edge\">edge</option>\n",
              "                        <option value=\"node\">node</option>\n",
              "                    </select>\n",
              "                  </div>\n",
              "                  <div class=\"col-3 pb-2\">\n",
              "                    <select\n",
              "                            class=\"form-select\"\n",
              "                            aria-label=\"Default select example\"\n",
              "                            onchange=\"updateFilter(value, 'property')\"\n",
              "                            id=\"select-property\"\n",
              "                        >\n",
              "                        <option value=\"\">Select a property...</option>\n",
              "                    </select>\n",
              "                  </div>\n",
              "                  <div class=\"col-3 pb-2\">\n",
              "                    <select\n",
              "                            class=\"form-select\"\n",
              "                            aria-label=\"Default select example\"\n",
              "                            id=\"select-value\"\n",
              "                        >\n",
              "                        <option value=\"\">Select value(s)...</option>\n",
              "                    </select>\n",
              "                  </div>\n",
              "                  <div class=\"col-1 pb-2\">\n",
              "                    <button type=\"button\" class=\"btn btn-primary btn-block\" onclick=\"highlightFilter(filter);\">Filter</button>\n",
              "                  </div>\n",
              "                  <div class=\"col-2 pb-2\">\n",
              "                    <button type=\"button\" class=\"btn btn-primary btn-block\" onclick=\"clearFilter(true)\">Reset Selection</button>\n",
              "                  </div>\n",
              "                </div>\n",
              "              </div>\n",
              "            \n",
              "            <div id=\"mynetwork\" class=\"card-body\"></div>\n",
              "        </div>\n",
              "\n",
              "        \n",
              "        \n",
              "\n",
              "        <script type=\"text/javascript\">\n",
              "\n",
              "              // initialize global variables.\n",
              "              var edges;\n",
              "              var nodes;\n",
              "              var allNodes;\n",
              "              var allEdges;\n",
              "              var nodeColors;\n",
              "              var originalNodes;\n",
              "              var network;\n",
              "              var container;\n",
              "              var options, data;\n",
              "              var filter = {\n",
              "                  item : '',\n",
              "                  property : '',\n",
              "                  value : []\n",
              "              };\n",
              "\n",
              "              \n",
              "\n",
              "              \n",
              "                  // explicitly using onItemAdd and this function as we need to save multiple values\n",
              "                  let updateValueFilter = function() {\n",
              "                      return function () {\n",
              "                      filter['value'].push(arguments[0])\n",
              "                      }\n",
              "                  }\n",
              "\n",
              "                  let valueControl = new TomSelect(\"#select-value\",{\n",
              "                      maxItems: null,\n",
              "                      valueField: 'id',\n",
              "                      labelField: 'title',\n",
              "                      searchField: 'title',\n",
              "                      create: false,\n",
              "                      sortField: {\n",
              "                          field: \"text\",\n",
              "                          direction: \"asc\"\n",
              "                      },\n",
              "                      onItemAdd: updateValueFilter()\n",
              "                  });\n",
              "\n",
              "                  let addValues = function() {\n",
              "                      return function () {\n",
              "                          // clear the current value options and add the selected attribute values\n",
              "                          // tom-select handles duplicates\n",
              "                          let selectedProperty = arguments[0];\n",
              "                          valueControl.clear();\n",
              "                          valueControl.clearOptions();\n",
              "                          filter['value'] = []\n",
              "                          if (filter['item'] === 'node') {\n",
              "                              for (let each in allNodes) {\n",
              "                                  valueControl.addOption({\n",
              "                                      id:allNodes[each][selectedProperty],\n",
              "                                      title:allNodes[each][selectedProperty]\n",
              "                                  })\n",
              "                              }\n",
              "                          }\n",
              "                          else if (filter['item'] === 'edge') {\n",
              "                              for (let each in allEdges) {\n",
              "                                  valueControl.addOption({\n",
              "                                      id:allEdges[each][selectedProperty],\n",
              "                                      title:allEdges[each][selectedProperty]\n",
              "                                  })\n",
              "                              }\n",
              "                          }\n",
              "                      }\n",
              "                  };\n",
              "\n",
              "                  let propControl = new TomSelect(\"#select-property\",{\n",
              "                      valueField: 'id',\n",
              "                      labelField: 'title',\n",
              "                      searchField: 'title',\n",
              "                      create: false,\n",
              "                      sortField: {\n",
              "                          field: \"text\",\n",
              "                          direction: \"asc\"\n",
              "                      },\n",
              "                      onItemAdd: addValues()\n",
              "                  });\n",
              "\n",
              "                  let addProperties = function() {\n",
              "                      return function () {\n",
              "                          // loops through the selected network item and adds the attributes to dropdown\n",
              "                          // tom-select handles duplicates\n",
              "                          clearFilter(false)\n",
              "                          if (arguments[0] === 'edge') {\n",
              "                              for (let each in allEdges) {\n",
              "                                  if (allEdges.hasOwnProperty(each)) {\n",
              "                                      for (let eachProp in allEdges[each]) {\n",
              "                                          if (allEdges[each].hasOwnProperty(eachProp)) {\n",
              "                                              propControl.addOption({id: eachProp, title: eachProp})\n",
              "                                          }\n",
              "                                      }\n",
              "                                  }\n",
              "                              }\n",
              "                          }\n",
              "                          else if (arguments[0] === 'node') {\n",
              "                              for (let each in allNodes) {\n",
              "                                  if (allNodes.hasOwnProperty(each)) {\n",
              "                                      for (let eachProp in allNodes[each]) {\n",
              "                                          if (allNodes[each].hasOwnProperty(eachProp)\n",
              "                                              && (eachProp !== 'hidden' && eachProp !== 'savedLabel'\n",
              "                                                  && eachProp !== 'hiddenLabel')) {\n",
              "                                              propControl.addOption({id: eachProp, title: eachProp})\n",
              "\n",
              "                                          }\n",
              "                                      }\n",
              "                                  }\n",
              "                              }\n",
              "                          }\n",
              "                      }\n",
              "                  };\n",
              "\n",
              "                  let itemControl = new TomSelect(\"#select-item\",{\n",
              "                      create: false,\n",
              "                      sortField:{\n",
              "                          field: \"text\",\n",
              "                          direction: \"asc\"\n",
              "                      },\n",
              "                      onItemAdd: addProperties()\n",
              "                  });\n",
              "\n",
              "                  function clearFilter(reset) {\n",
              "                      // utility function to clear all the selected filter options\n",
              "                      // if reset is set to true, the existing filter will be removed\n",
              "                      // else, only the dropdown options are cleared\n",
              "                      propControl.clear();\n",
              "                      propControl.clearOptions();\n",
              "                      valueControl.clear();\n",
              "                      valueControl.clearOptions();\n",
              "                      filter = {\n",
              "                          item : '',\n",
              "                          property : '',\n",
              "                          value : []\n",
              "                      }\n",
              "                      if (reset) {\n",
              "                          itemControl.clear();\n",
              "                          filterHighlight({nodes: []})\n",
              "                      }\n",
              "                  }\n",
              "\n",
              "                  function updateFilter(value, key) {\n",
              "                      // key could be 'item' or 'property' and value is as selected in dropdown\n",
              "                      filter[key] = value\n",
              "                  }\n",
              "\n",
              "              \n",
              "\n",
              "              // This method is responsible for drawing the graph, returns the drawn network\n",
              "              function drawGraph() {\n",
              "                  var container = document.getElementById('mynetwork');\n",
              "\n",
              "                  \n",
              "\n",
              "                  // parsing and collecting nodes and edges from the python\n",
              "                  nodes = new vis.DataSet([{\"color\": \"#DEEBF7\", \"id\": 0, \"label\": \"lasercut\", \"shape\": \"dot\", \"size\": 6, \"title\": \"Week1\"}, {\"color\": \"#DEEBF7\", \"id\": 1, \"label\": \"3dprint\", \"shape\": \"dot\", \"size\": 6, \"title\": \"Week1\"}, {\"color\": \"#DEEBF7\", \"id\": 4, \"label\": \"debug\", \"shape\": \"dot\", \"size\": 6, \"title\": \"Week1\"}, {\"color\": \"#DEEBF7\", \"id\": 5, \"label\": \"trial\", \"shape\": \"dot\", \"size\": 6, \"title\": \"Week1\"}]);\n",
              "                  edges = new vis.DataSet([{\"from\": 4, \"to\": 5}]);\n",
              "\n",
              "                  nodeColors = {};\n",
              "                  allNodes = nodes.get({ returnType: \"Object\" });\n",
              "                  for (nodeId in allNodes) {\n",
              "                    nodeColors[nodeId] = allNodes[nodeId].color;\n",
              "                  }\n",
              "                  allEdges = edges.get({ returnType: \"Object\" });\n",
              "                  // adding nodes and edges to the graph\n",
              "                  data = {nodes: nodes, edges: edges};\n",
              "\n",
              "                  var options = {\n",
              "    \"configure\": {\n",
              "        \"enabled\": false\n",
              "    },\n",
              "    \"edges\": {\n",
              "        \"color\": {\n",
              "            \"inherit\": true\n",
              "        },\n",
              "        \"smooth\": {\n",
              "            \"enabled\": true,\n",
              "            \"type\": \"dynamic\"\n",
              "        }\n",
              "    },\n",
              "    \"interaction\": {\n",
              "        \"dragNodes\": true,\n",
              "        \"hideEdgesOnDrag\": false,\n",
              "        \"hideNodesOnDrag\": false\n",
              "    },\n",
              "    \"physics\": {\n",
              "        \"enabled\": true,\n",
              "        \"stabilization\": {\n",
              "            \"enabled\": true,\n",
              "            \"fit\": true,\n",
              "            \"iterations\": 1000,\n",
              "            \"onlyDynamicEdges\": false,\n",
              "            \"updateInterval\": 50\n",
              "        }\n",
              "    }\n",
              "};\n",
              "\n",
              "                  \n",
              "\n",
              "\n",
              "                  \n",
              "\n",
              "                  network = new vis.Network(container, data, options);\n",
              "\n",
              "                  \n",
              "\n",
              "                  \n",
              "\n",
              "                  \n",
              "\n",
              "\n",
              "                  \n",
              "\n",
              "                  return network;\n",
              "\n",
              "              }\n",
              "              drawGraph();\n",
              "        </script>\n",
              "    </body>\n",
              "</html>"
            ]
          },
          "metadata": {}
        }
      ],
      "source": [
        "net1 = Network(notebook=True, heading=\"Individual Knowledge Map Week 1\",filter_menu=True,cdn_resources='remote')\n",
        "\n",
        "# cacluates the number of occurences for each keywork for week 1\n",
        "occurence_week1 = week_keyword.iloc[:1].sum()\n",
        "    \n",
        "for i, value in enumerate(week1):\n",
        "    if value == 1:\n",
        "        net1.add_node(i, label=keywords[i], title='Week1',size=(int(occurence_week1[i])+1)*3, color=palette[0])\n",
        "\n",
        "# show the all node ids we have in the net\n",
        "net1_id = [dic['id'] for dic in net1.nodes]\n",
        "print(net1_id)\n",
        "\n",
        "for i in net1_id:\n",
        "    for j in net1_id:\n",
        "        if i != j and keywords_group[i] == keywords_group[j]:\n",
        "            net1.add_edge(i,j)\n",
        "            \n",
        "#Network.set_options()\n",
        "#net1.show_buttons(filter_=['buttons'])              \n",
        "net1.show(\"social_network.html\")\n",
        "from IPython.core.display import display, HTML\n",
        "display(HTML(\"social_network.html\"))"
      ]
    },
    {
      "cell_type": "code",
      "execution_count": null,
      "id": "1c091847",
      "metadata": {
        "colab": {
          "base_uri": "https://localhost:8080/",
          "height": 657
        },
        "id": "1c091847",
        "outputId": "f8cc8afb-fd17-47c1-ded5-a274e6e2a7a0"
      },
      "outputs": [
        {
          "output_type": "stream",
          "name": "stdout",
          "text": [
            "[0, 1, 4, 5, 2, 3, 10, 11, 12, 13]\n",
            "social_network.html\n"
          ]
        },
        {
          "output_type": "execute_result",
          "data": {
            "text/plain": [
              "<IPython.lib.display.IFrame at 0x7f8c8b9b86a0>"
            ],
            "text/html": [
              "\n",
              "        <iframe\n",
              "            width=\"100%\"\n",
              "            height=\"600px\"\n",
              "            src=\"social_network.html\"\n",
              "            frameborder=\"0\"\n",
              "            allowfullscreen\n",
              "        ></iframe>\n",
              "        "
            ]
          },
          "metadata": {},
          "execution_count": 20
        }
      ],
      "source": [
        "net2 = Network(notebook=True, heading=\"Individual Knowledge Map Week 2\", filter_menu=True,cdn_resources = 'remote')\n",
        "\n",
        "# cacluates the number of occurences for each keywork for week 1 & week2 in total\n",
        "occurence_week2 = week_keyword.iloc[:2].sum()\n",
        "    \n",
        "for i, value in  enumerate(week1):\n",
        "    if value == 1:\n",
        "        net2.add_node(i, label=keywords[i], title='Week1', size=(int(occurence_week2[i])+1)*3, color=palette[0])\n",
        "\n",
        "for i, value in  enumerate(week2):\n",
        "    if value == 1:\n",
        "        net2.add_node(i, label=keywords[i], title='Week2', size=(int(occurence_week2[i])+1)*3, color=palette[1])\n",
        "\n",
        "# show the all node ids we have in the net\n",
        "net2_id = [dic['id'] for dic in net2.nodes]\n",
        "print(net2_id)\n",
        "\n",
        "for i in net2_id:\n",
        "    for j in net2_id:\n",
        "        if i != j and keywords_group[i] == keywords_group[j]:\n",
        "            net2.add_edge(i,j)\n",
        "                         \n",
        "net2.show(\"social_network.html\")"
      ]
    },
    {
      "cell_type": "code",
      "execution_count": null,
      "id": "cc9b3f0e",
      "metadata": {
        "colab": {
          "base_uri": "https://localhost:8080/",
          "height": 657
        },
        "id": "cc9b3f0e",
        "outputId": "30daed81-d6f5-4bbe-9763-ae9e42299654"
      },
      "outputs": [
        {
          "output_type": "stream",
          "name": "stdout",
          "text": [
            "[0, 1, 4, 5, 2, 3, 10, 11, 12, 13, 7, 8, 9]\n",
            "social_network.html\n"
          ]
        },
        {
          "output_type": "execute_result",
          "data": {
            "text/plain": [
              "<IPython.lib.display.IFrame at 0x7f8c88c6e910>"
            ],
            "text/html": [
              "\n",
              "        <iframe\n",
              "            width=\"100%\"\n",
              "            height=\"600px\"\n",
              "            src=\"social_network.html\"\n",
              "            frameborder=\"0\"\n",
              "            allowfullscreen\n",
              "        ></iframe>\n",
              "        "
            ]
          },
          "metadata": {},
          "execution_count": 21
        }
      ],
      "source": [
        "net3 = Network(notebook=True, heading=\"Individual Knowledge Map Week 3\", filter_menu=True,cdn_resources = 'remote')\n",
        "\n",
        "# cacluates the number of occurences for each keywork for week 1 & week2 & week3 in total\n",
        "occurence_week3 = week_keyword.iloc[:2].sum()\n",
        "    \n",
        "for i, value in  enumerate(week1):\n",
        "    if value == 1:\n",
        "        net3.add_node(i, label=keywords[i], title='Week1',size=(int(occurence_week3[i])+1)*3,color=palette[0])\n",
        "\n",
        "for i, value in  enumerate(week2):\n",
        "    if value == 1:\n",
        "        net3.add_node(i, label=keywords[i], title='Week2',size=(int(occurence_week3[i])+1)*3,color=palette[1])\n",
        "        \n",
        "for i, value in  enumerate(week3):\n",
        "    if value == 1:\n",
        "        net3.add_node(i, label=keywords[i], title='Week3',size=(int(occurence_week3[i])+1)*3,color=palette[2])\n",
        "\n",
        "# show the all node ids we have in the net\n",
        "net3_id = [dic['id'] for dic in net3.nodes]\n",
        "print(net3_id)\n",
        "\n",
        "for i in net3_id:\n",
        "    for j in net3_id:\n",
        "        if i != j and keywords_group[i] == keywords_group[j]:\n",
        "            net3.add_edge(i,j)\n",
        "               \n",
        "net3.show(\"social_network.html\")"
      ]
    },
    {
      "cell_type": "code",
      "execution_count": null,
      "id": "5e256d2e",
      "metadata": {
        "id": "5e256d2e"
      },
      "outputs": [],
      "source": []
    },
    {
      "cell_type": "code",
      "execution_count": null,
      "id": "e659c19e",
      "metadata": {
        "id": "e659c19e"
      },
      "outputs": [],
      "source": []
    }
  ],
  "metadata": {
    "kernelspec": {
      "display_name": "Python 3 (ipykernel)",
      "language": "python",
      "name": "python3"
    },
    "language_info": {
      "codemirror_mode": {
        "name": "ipython",
        "version": 3
      },
      "file_extension": ".py",
      "mimetype": "text/x-python",
      "name": "python",
      "nbconvert_exporter": "python",
      "pygments_lexer": "ipython3",
      "version": "3.7.0"
    },
    "colab": {
      "provenance": [],
      "include_colab_link": true
    }
  },
  "nbformat": 4,
  "nbformat_minor": 5
}
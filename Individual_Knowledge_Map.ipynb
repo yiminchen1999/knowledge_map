{
 "cells": [
  {
   "cell_type": "code",
   "execution_count": 25,
   "id": "82fed2cf",
   "metadata": {},
   "outputs": [],
   "source": [
    "from pyvis.network import Network\n",
    "import pandas as pd"
   ]
  },
  {
   "cell_type": "code",
   "execution_count": 26,
   "id": "09bbe030",
   "metadata": {},
   "outputs": [],
   "source": [
    "week_keyword = pd.read_excel(\"week_keyword_table_s01_2021.xlsx\",index_col=0)\n",
    "keyword_category = pd.read_excel(\"keyword_category_table.xlsx\",index_col=0)"
   ]
  },
  {
   "cell_type": "code",
   "execution_count": 27,
   "id": "30844191",
   "metadata": {},
   "outputs": [
    {
     "data": {
      "text/html": [
       "<div>\n",
       "<style scoped>\n",
       "    .dataframe tbody tr th:only-of-type {\n",
       "        vertical-align: middle;\n",
       "    }\n",
       "\n",
       "    .dataframe tbody tr th {\n",
       "        vertical-align: top;\n",
       "    }\n",
       "\n",
       "    .dataframe thead th {\n",
       "        text-align: right;\n",
       "    }\n",
       "</style>\n",
       "<table border=\"1\" class=\"dataframe\">\n",
       "  <thead>\n",
       "    <tr style=\"text-align: right;\">\n",
       "      <th></th>\n",
       "      <th>lasercut</th>\n",
       "      <th>3dprint</th>\n",
       "      <th>woodtool</th>\n",
       "      <th>design</th>\n",
       "      <th>debug</th>\n",
       "      <th>trial</th>\n",
       "      <th>help</th>\n",
       "      <th>2ddesign</th>\n",
       "      <th>measure</th>\n",
       "      <th>angle</th>\n",
       "      <th>shape</th>\n",
       "      <th>material</th>\n",
       "      <th>battery</th>\n",
       "      <th>power</th>\n",
       "    </tr>\n",
       "  </thead>\n",
       "  <tbody>\n",
       "    <tr>\n",
       "      <th>1</th>\n",
       "      <td>1</td>\n",
       "      <td>1</td>\n",
       "      <td>0</td>\n",
       "      <td>0</td>\n",
       "      <td>1</td>\n",
       "      <td>1</td>\n",
       "      <td>0</td>\n",
       "      <td>0</td>\n",
       "      <td>0</td>\n",
       "      <td>0</td>\n",
       "      <td>0</td>\n",
       "      <td>0</td>\n",
       "      <td>0</td>\n",
       "      <td>0</td>\n",
       "    </tr>\n",
       "    <tr>\n",
       "      <th>2</th>\n",
       "      <td>0</td>\n",
       "      <td>0</td>\n",
       "      <td>1</td>\n",
       "      <td>1</td>\n",
       "      <td>1</td>\n",
       "      <td>0</td>\n",
       "      <td>0</td>\n",
       "      <td>0</td>\n",
       "      <td>0</td>\n",
       "      <td>0</td>\n",
       "      <td>1</td>\n",
       "      <td>1</td>\n",
       "      <td>1</td>\n",
       "      <td>1</td>\n",
       "    </tr>\n",
       "    <tr>\n",
       "      <th>3</th>\n",
       "      <td>1</td>\n",
       "      <td>0</td>\n",
       "      <td>1</td>\n",
       "      <td>0</td>\n",
       "      <td>1</td>\n",
       "      <td>1</td>\n",
       "      <td>0</td>\n",
       "      <td>1</td>\n",
       "      <td>1</td>\n",
       "      <td>1</td>\n",
       "      <td>1</td>\n",
       "      <td>1</td>\n",
       "      <td>0</td>\n",
       "      <td>1</td>\n",
       "    </tr>\n",
       "  </tbody>\n",
       "</table>\n",
       "</div>"
      ],
      "text/plain": [
       "   lasercut  3dprint  woodtool  design  debug  trial  help  2ddesign  measure  \\\n",
       "1         1        1         0       0      1      1     0         0        0   \n",
       "2         0        0         1       1      1      0     0         0        0   \n",
       "3         1        0         1       0      1      1     0         1        1   \n",
       "\n",
       "   angle  shape   material  battery  power  \n",
       "1      0       0         0        0      0  \n",
       "2      0       1         1        1      1  \n",
       "3      1       1         1        0      1  "
      ]
     },
     "metadata": {},
     "output_type": "display_data"
    },
    {
     "data": {
      "text/html": [
       "<div>\n",
       "<style scoped>\n",
       "    .dataframe tbody tr th:only-of-type {\n",
       "        vertical-align: middle;\n",
       "    }\n",
       "\n",
       "    .dataframe tbody tr th {\n",
       "        vertical-align: top;\n",
       "    }\n",
       "\n",
       "    .dataframe thead th {\n",
       "        text-align: right;\n",
       "    }\n",
       "</style>\n",
       "<table border=\"1\" class=\"dataframe\">\n",
       "  <thead>\n",
       "    <tr style=\"text-align: right;\">\n",
       "      <th></th>\n",
       "      <th>category</th>\n",
       "    </tr>\n",
       "  </thead>\n",
       "  <tbody>\n",
       "    <tr>\n",
       "      <th>lasercut</th>\n",
       "      <td>1</td>\n",
       "    </tr>\n",
       "    <tr>\n",
       "      <th>3dprint</th>\n",
       "      <td>2</td>\n",
       "    </tr>\n",
       "    <tr>\n",
       "      <th>woodtool</th>\n",
       "      <td>3</td>\n",
       "    </tr>\n",
       "    <tr>\n",
       "      <th>design</th>\n",
       "      <td>1</td>\n",
       "    </tr>\n",
       "    <tr>\n",
       "      <th>debug</th>\n",
       "      <td>4</td>\n",
       "    </tr>\n",
       "    <tr>\n",
       "      <th>trial</th>\n",
       "      <td>4</td>\n",
       "    </tr>\n",
       "    <tr>\n",
       "      <th>help</th>\n",
       "      <td>4</td>\n",
       "    </tr>\n",
       "    <tr>\n",
       "      <th>2ddesign</th>\n",
       "      <td>1</td>\n",
       "    </tr>\n",
       "    <tr>\n",
       "      <th>measure</th>\n",
       "      <td>2</td>\n",
       "    </tr>\n",
       "    <tr>\n",
       "      <th>angle</th>\n",
       "      <td>4</td>\n",
       "    </tr>\n",
       "    <tr>\n",
       "      <th>shape</th>\n",
       "      <td>4</td>\n",
       "    </tr>\n",
       "    <tr>\n",
       "      <th>material</th>\n",
       "      <td>4</td>\n",
       "    </tr>\n",
       "    <tr>\n",
       "      <th>battery</th>\n",
       "      <td>5</td>\n",
       "    </tr>\n",
       "    <tr>\n",
       "      <th>power</th>\n",
       "      <td>5</td>\n",
       "    </tr>\n",
       "  </tbody>\n",
       "</table>\n",
       "</div>"
      ],
      "text/plain": [
       "          category\n",
       "lasercut         1\n",
       "3dprint          2\n",
       "woodtool         3\n",
       "design           1\n",
       "debug            4\n",
       "trial            4\n",
       "help             4\n",
       "2ddesign         1\n",
       "measure          2\n",
       "angle            4\n",
       "shape            4\n",
       "material         4\n",
       "battery          5\n",
       "power            5"
      ]
     },
     "metadata": {},
     "output_type": "display_data"
    }
   ],
   "source": [
    "display(week_keyword)\n",
    "display(keyword_category)"
   ]
  },
  {
   "cell_type": "code",
   "execution_count": 28,
   "id": "d61ed928",
   "metadata": {},
   "outputs": [
    {
     "name": "stdout",
     "output_type": "stream",
     "text": [
      "['lasercut', '3dprint', 'woodtool', 'design', 'debug', 'trial', 'help', '2ddesign', 'measure', 'angle', 'shape ', 'material', 'battery', 'power']\n"
     ]
    }
   ],
   "source": [
    "keywords = list(week_keyword.head())\n",
    "print(keywords)"
   ]
  },
  {
   "cell_type": "code",
   "execution_count": 29,
   "id": "d4186989",
   "metadata": {},
   "outputs": [
    {
     "name": "stdout",
     "output_type": "stream",
     "text": [
      "[1 2 3 1 4 4 4 1 2 4 4 4 5 5]\n"
     ]
    }
   ],
   "source": [
    "# the number shows which category the keyword belongs to\n",
    "keywords_group = keyword_category.iloc[:, 0].to_numpy()\n",
    "print(keywords_group)"
   ]
  },
  {
   "cell_type": "code",
   "execution_count": 30,
   "id": "f7855c64",
   "metadata": {},
   "outputs": [
    {
     "name": "stdout",
     "output_type": "stream",
     "text": [
      "[1 1 0 0 1 1 0 0 0 0 0 0 0 0]\n",
      "[0 0 1 1 1 0 0 0 0 0 1 1 1 1]\n",
      "[1 0 1 0 1 1 0 1 1 1 1 1 0 1]\n"
     ]
    }
   ],
   "source": [
    "# extract each week's keyword list\n",
    "week1 = week_keyword.iloc[0].to_numpy()\n",
    "week2 = week_keyword.iloc[1].to_numpy()\n",
    "week3 = week_keyword.iloc[2].to_numpy()\n",
    "print(week1)\n",
    "print(week2)\n",
    "print(week3)"
   ]
  },
  {
   "cell_type": "code",
   "execution_count": 31,
   "id": "ffd85749",
   "metadata": {},
   "outputs": [
    {
     "name": "stdout",
     "output_type": "stream",
     "text": [
      "['#DEEBF7', '#9ECAE1', '#3182BD']\n"
     ]
    },
    {
     "data": {
      "text/plain": [
       "'#DEEBF7'"
      ]
     },
     "execution_count": 31,
     "metadata": {},
     "output_type": "execute_result"
    }
   ],
   "source": [
    "# create gradient color for each week's nodes\n",
    "from palettable.colorbrewer.sequential import Blues_3\n",
    "palette = Blues_3.hex_colors\n",
    "print(palette)\n",
    "palette[0]"
   ]
  },
  {
   "cell_type": "code",
   "execution_count": 32,
   "id": "0fd770b0",
   "metadata": {},
   "outputs": [
    {
     "name": "stdout",
     "output_type": "stream",
     "text": [
      "[0, 1, 4, 5]\n",
      "social_network1.html\n"
     ]
    },
    {
     "data": {
      "text/html": [
       "\n",
       "        <iframe\n",
       "            width=\"100%\"\n",
       "            height=\"600px\"\n",
       "            src=\"social_network1.html\"\n",
       "            frameborder=\"0\"\n",
       "            allowfullscreen\n",
       "            \n",
       "        ></iframe>\n",
       "        "
      ],
      "text/plain": [
       "<IPython.lib.display.IFrame at 0x1db491e1ba0>"
      ]
     },
     "execution_count": 32,
     "metadata": {},
     "output_type": "execute_result"
    }
   ],
   "source": [
    "net1 = Network(notebook=True, filter_menu=True, cdn_resources = 'remote')\n",
    "\n",
    "# cacluates the number of occurences for each keywork for week 1\n",
    "occurence_week1 = week_keyword.iloc[:1].sum()\n",
    "    \n",
    "for i, value in enumerate(week1):\n",
    "    if value == 1:\n",
    "        net1.add_node(i, label=keywords[i], title='Week1',size=(int(occurence_week1[i])+1)*3, color=palette[0])\n",
    "\n",
    "# show the all node ids we have in the net\n",
    "net1_id = [dic['id'] for dic in net1.nodes]\n",
    "print(net1_id)\n",
    "\n",
    "for i in net1_id:\n",
    "    for j in net1_id:\n",
    "        if i != j and keywords_group[i] == keywords_group[j]:\n",
    "            net1.add_edge(i,j)\n",
    "            \n",
    "\n",
    "               \n",
    "net1.show(\"social_network1.html\")"
   ]
  },
  {
   "cell_type": "code",
   "execution_count": 33,
   "id": "1c091847",
   "metadata": {},
   "outputs": [
    {
     "name": "stdout",
     "output_type": "stream",
     "text": [
      "[0, 1, 4, 5, 2, 3, 10, 11, 12, 13]\n",
      "social_network2.html\n"
     ]
    },
    {
     "data": {
      "text/html": [
       "\n",
       "        <iframe\n",
       "            width=\"100%\"\n",
       "            height=\"600px\"\n",
       "            src=\"social_network2.html\"\n",
       "            frameborder=\"0\"\n",
       "            allowfullscreen\n",
       "            \n",
       "        ></iframe>\n",
       "        "
      ],
      "text/plain": [
       "<IPython.lib.display.IFrame at 0x1db4a17dcf0>"
      ]
     },
     "execution_count": 33,
     "metadata": {},
     "output_type": "execute_result"
    }
   ],
   "source": [
    "net2 = Network(notebook=True, filter_menu=True, cdn_resources = 'remote')\n",
    "\n",
    "# cacluates the number of occurences for each keywork for week 1 & week2 in total\n",
    "occurence_week2 = week_keyword.iloc[:2].sum()\n",
    "    \n",
    "for i, value in  enumerate(week1):\n",
    "    if value == 1:\n",
    "        net2.add_node(i, label=keywords[i], title='Week1', size=(int(occurence_week2[i])+1)*3, color=palette[0])\n",
    "\n",
    "for i, value in  enumerate(week2):\n",
    "    if value == 1:\n",
    "        net2.add_node(i, label=keywords[i], title='Week2', size=(int(occurence_week2[i])+1)*3, color=palette[1])\n",
    "\n",
    "# show the all node ids we have in the net\n",
    "net2_id = [dic['id'] for dic in net2.nodes]\n",
    "print(net2_id)\n",
    "\n",
    "for i in net2_id:\n",
    "    for j in net2_id:\n",
    "        if i != j and keywords_group[i] == keywords_group[j]:\n",
    "            net2.add_edge(i,j)\n",
    "               \n",
    "net2.show(\"social_network2.html\")"
   ]
  },
  {
   "cell_type": "code",
   "execution_count": 34,
   "id": "cc9b3f0e",
   "metadata": {},
   "outputs": [
    {
     "name": "stdout",
     "output_type": "stream",
     "text": [
      "[0, 1, 4, 5, 2, 3, 10, 11, 12, 13, 7, 8, 9]\n",
      "social_network3.html\n"
     ]
    },
    {
     "data": {
      "text/html": [
       "\n",
       "        <iframe\n",
       "            width=\"100%\"\n",
       "            height=\"600px\"\n",
       "            src=\"social_network3.html\"\n",
       "            frameborder=\"0\"\n",
       "            allowfullscreen\n",
       "            \n",
       "        ></iframe>\n",
       "        "
      ],
      "text/plain": [
       "<IPython.lib.display.IFrame at 0x1db47dbcbe0>"
      ]
     },
     "execution_count": 34,
     "metadata": {},
     "output_type": "execute_result"
    }
   ],
   "source": [
    "# heading=\"Individual Knowledge Map Week 3\",\n",
    "net3 = Network(notebook=True, filter_menu=True, cdn_resources = 'remote')\n",
    "\n",
    "# cacluates the number of occurences for each keywork for week 1 & week2 & week3 in total\n",
    "occurence_week3 = week_keyword.iloc[:2].sum()\n",
    "    \n",
    "for i, value in  enumerate(week1):\n",
    "    if value == 1:\n",
    "        net3.add_node(i, label=keywords[i], title='Week1',size=(int(occurence_week3[i])+1)*3,color=palette[0])\n",
    "\n",
    "for i, value in  enumerate(week2):\n",
    "    if value == 1:\n",
    "        net3.add_node(i, label=keywords[i], title='Week2',size=(int(occurence_week3[i])+1)*3,color=palette[1])\n",
    "        \n",
    "for i, value in  enumerate(week3):\n",
    "    if value == 1:\n",
    "        net3.add_node(i, label=keywords[i], title='Week3',size=(int(occurence_week3[i])+1)*3,color=palette[2])\n",
    "\n",
    "# show the all node ids we have in the net\n",
    "net3_id = [dic['id'] for dic in net3.nodes]\n",
    "print(net3_id)\n",
    "\n",
    "for i in net3_id:\n",
    "    for j in net3_id:\n",
    "        if i != j and keywords_group[i] == keywords_group[j]:\n",
    "            net3.add_edge(i,j)\n",
    "               \n",
    "net3.show(\"social_network3.html\")"
   ]
  },
  {
   "cell_type": "code",
   "execution_count": null,
   "id": "5e256d2e",
   "metadata": {},
   "outputs": [],
   "source": []
  },
  {
   "cell_type": "code",
   "execution_count": null,
   "id": "e659c19e",
   "metadata": {},
   "outputs": [],
   "source": []
  }
 ],
 "metadata": {
  "kernelspec": {
   "display_name": "Python 3 (ipykernel)",
   "language": "python",
   "name": "python3"
  },
  "language_info": {
   "codemirror_mode": {
    "name": "ipython",
    "version": 3
   },
   "file_extension": ".py",
   "mimetype": "text/x-python",
   "name": "python",
   "nbconvert_exporter": "python",
   "pygments_lexer": "ipython3",
   "version": "3.10.10"
  }
 },
 "nbformat": 4,
 "nbformat_minor": 5
}
